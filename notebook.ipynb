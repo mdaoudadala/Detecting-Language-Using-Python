{
 "cells": [
  {
   "cell_type": "markdown",
   "metadata": {},
   "source": [
    "Python, being an open-source programming language, boasts a vast array of libraries and packages catering to virtually every conceivable task. Continuously fueled by contributions from the Python programming community, new libraries, packages, and modules are constantly enriching Python's ecosystem. While you have the option to develop your machine learning model for language detection, this article will demonstrate the utilization of the langdetect package in Python. This powerful tool can identify over 55 different languages with minimal code requirements.\n",
    "\n",
    "If you're new to this package, installing it is a breeze with the pip command; simply execute pip install langdetect. Let's now delve into how to harness the capabilities of this package for language detection with Python:"
   ]
  },
  {
   "cell_type": "code",
   "execution_count": 7,
   "metadata": {},
   "outputs": [
    {
     "name": "stdout",
     "output_type": "stream",
     "text": [
      "fr\n"
     ]
    }
   ],
   "source": [
    "from langdetect import detect\n",
    "text = input(\"Enter any text in any language: \")\n",
    "print(detect(text))"
   ]
  },
  {
   "cell_type": "markdown",
   "metadata": {},
   "source": [
    "The provided code snippet begins by importing the detect method from the langdetect package. Following this, it prompts the user for input, allowing them to enter text in any language. Subsequently, it utilizes the detect method to determine the language of the user-entered text and prints the detected language accordingly."
   ]
  },
  {
   "cell_type": "markdown",
   "metadata": {},
   "source": [
    "In summary, the program outputs the abbreviated form of the detected language (e.g., \"fr\" for French). Users can input text in any language of their choice, and the program will accurately detect and display the language in its abbreviated form. I hope you found this article informative on language detection with Python. If you have any questions or comments, please don't hesitate to share them."
   ]
  }
 ],
 "metadata": {
  "kernelspec": {
   "display_name": "python3.9.6",
   "language": "python",
   "name": "python3.9.6"
  },
  "language_info": {
   "codemirror_mode": {
    "name": "ipython",
    "version": 3
   },
   "file_extension": ".py",
   "mimetype": "text/x-python",
   "name": "python",
   "nbconvert_exporter": "python",
   "pygments_lexer": "ipython3",
   "version": "3.10.12"
  }
 },
 "nbformat": 4,
 "nbformat_minor": 2
}
